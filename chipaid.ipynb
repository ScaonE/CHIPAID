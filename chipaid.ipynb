{
 "cells": [
  {
   "cell_type": "markdown",
   "metadata": {
    "collapsed": true
   },
   "source": [
    "# ChIPAID project"
   ]
  },
  {
   "cell_type": "markdown",
   "metadata": {},
   "source": [
    "##### TODO"
   ]
  },
  {
   "cell_type": "markdown",
   "metadata": {},
   "source": [
    "- End biblio on how to perform ChIP-Seq analysis\n",
    "- Dedup BAM ?\n",
    "- Launch peak calling\n",
    "- Perform IDR & other controls\n",
    "- DE analysis"
   ]
  },
  {
   "cell_type": "markdown",
   "metadata": {},
   "source": [
    "## 0) Introduction"
   ]
  },
  {
   "cell_type": "markdown",
   "metadata": {},
   "source": [
    "Context is B cells, focusing on SHM event and AID enzyme. ChIP-Seq is performed to look at AID recruitment on Ig gene & on AID off-target genes. In this study we have WT mouse & MAR-KO (MAR) mouse. It is expected that MAR have lower AID recruitement on IgH, IgK, IgL & AID off-target.\n",
    "\n",
    "One of the issue is that the B cells researchers are interested in are pretty rare and the AID enzyme events are pretty rare too. Thus we may not have enough data (compared to classical ChIP-Seq protocols).\n",
    "\n",
    "Samples are : 3 biological rep for both WT & MAR (and all have immunoP (IP) + Input (IN) (control), for a total of 12 samples)."
   ]
  },
  {
   "cell_type": "markdown",
   "metadata": {},
   "source": [
    "## 1) Data"
   ]
  },
  {
   "cell_type": "markdown",
   "metadata": {},
   "source": [
    "### 1.1) Reads"
   ]
  },
  {
   "cell_type": "markdown",
   "metadata": {},
   "source": [
    "Raw reads were retrieved from Ophélie Martin external drive. They were sequenced @FTS (@Lionel & @Romain) on Illumina plateform (75bp single-end)."
   ]
  },
  {
   "cell_type": "markdown",
   "metadata": {},
   "source": [
    "##### FASTQ samples were barcoded, separated, cleaned but not merged\n",
    "Thus we need to do this task"
   ]
  },
  {
   "cell_type": "markdown",
   "metadata": {},
   "source": [
    "##### Get uniques IDs (should be 12)"
   ]
  },
  {
   "cell_type": "code",
   "execution_count": 3,
   "metadata": {
    "collapsed": true
   },
   "outputs": [],
   "source": [
    "### CODE ###\n",
    "path='/run/user/1000/gvfs/smb-share:server=ubox.ad.unilim.fr,share=biscem/BioInformatique/Responsables/Commun/CHIPAID';\n",
    "cd $path/Data/Reads;\n",
    "for f in *.gz;\n",
    "do echo ${f%%_*};\n",
    "done | sort -u > samples.txt;"
   ]
  },
  {
   "cell_type": "markdown",
   "metadata": {},
   "source": [
    "##### Then cat the 48 files -> 12 FASTQ"
   ]
  },
  {
   "cell_type": "code",
   "execution_count": null,
   "metadata": {
    "collapsed": true
   },
   "outputs": [],
   "source": [
    "### CODE ###\n",
    "while read sample;\n",
    "do cat $sample* > $sample.fastq.gz;\n",
    "done < samples.txt;"
   ]
  },
  {
   "cell_type": "markdown",
   "metadata": {},
   "source": [
    "##### Lastly, use \"easier\" names for samples"
   ]
  },
  {
   "cell_type": "code",
   "execution_count": null,
   "metadata": {
    "collapsed": true
   },
   "outputs": [],
   "source": [
    "mv MARsKO01.fastq.gz MAR_IN_1.fastq.gz;\n",
    "mv MARsKO02.fastq.gz MAR_IN_2.fastq.gz;\n",
    "mv MARsKO03.fastq.gz MAR_IN_3.fastq.gz;\n",
    "mv MARsKO1.fastq.gz MAR_IP_1.fastq.gz;\n",
    "mv MARsKO2.fastq.gz MAR_IP_2.fastq.gz;\n",
    "mv MARsKO3.fastq.gz MAR_IP_3.fastq.gz;\n",
    "mv WT01.fastq.gz WT_IN_1.fastq.gz;\n",
    "mv WT02.fastq.gz WT_IN_2.fastq.gz;\n",
    "mv WT03.fastq.gz WT_IN_3.fastq.gz;\n",
    "mv WT1.fastq.gz WT_IP_1.fastq.gz;\n",
    "mv WT2.fastq.gz WT_IP_2.fastq.gz;\n",
    "mv WT3.fastq.gz WT_IP_3.fastq.gz;"
   ]
  },
  {
   "cell_type": "markdown",
   "metadata": {},
   "source": [
    "### 1.2) Mus musculus"
   ]
  },
  {
   "cell_type": "markdown",
   "metadata": {},
   "source": [
    "Reference genome is the same as the one used in the PTCB project. It's the latest GRC (GRCm38.p6), minus entries not in the gencode M16 annotation (to avoid future fails with downstream analysis tools)."
   ]
  },
  {
   "cell_type": "markdown",
   "metadata": {},
   "source": [
    "## 2) Quality control"
   ]
  },
  {
   "cell_type": "markdown",
   "metadata": {},
   "source": [
    "##### FastQC v0.11.2 @genotoul"
   ]
  },
  {
   "cell_type": "code",
   "execution_count": null,
   "metadata": {
    "collapsed": true
   },
   "outputs": [],
   "source": [
    "### CODE ###\n",
    "#!/bin/bash\n",
    "#$ -q workq\n",
    "#$ -M erwan.scaon@unilim.fr\n",
    "#$ -m bea\n",
    "#$ -l mem=8G\n",
    "#$ -l h_vmem=10G\n",
    "#$ -N fastqc_chipaid\n",
    "#$ -o /home/escaon/work/CHIPAID/Verbose/fastqc.o\n",
    "#$ -e /home/escaon/work/CHIPAID/Verbose/fastqc.e\n",
    "\n",
    "##############################\n",
    "### Paths, tools & modules ###\n",
    "##############################\n",
    "work='/home/escaon/work/CHIPAID';\n",
    "\n",
    "##############\n",
    "### FASTQC ###\n",
    "##############\n",
    "cd $work/Data;\n",
    "for f in *.fastq.gz;\n",
    "do echo $f; fastqc --outdir $work -f fastq $f;\n",
    "done;"
   ]
  },
  {
   "cell_type": "markdown",
   "metadata": {},
   "source": [
    "##### MultiQC 1.4 @genotoul"
   ]
  },
  {
   "cell_type": "code",
   "execution_count": null,
   "metadata": {
    "collapsed": true
   },
   "outputs": [],
   "source": [
    "### CODE ###\n",
    "#!/bin/bash\n",
    "#$ -q workq\n",
    "#$ -M erwan.scaon@unilim.fr\n",
    "#$ -m bea\n",
    "#$ -l mem=8G\n",
    "#$ -l h_vmem=10G\n",
    "#$ -N multiqc_chipaid\n",
    "#$ -o /home/escaon/work/CHIPAID/Verbose/multiqc.o\n",
    "#$ -e /home/escaon/work/CHIPAID/Verbose/multiqc.e\n",
    "\n",
    "##############################\n",
    "### Paths, tools & modules ###\n",
    "##############################\n",
    "work='/home/escaon/work/CHIPAID';\n",
    "fastqc_dir='/home/escaon/work/CHIPAID/QC/FastQC';\n",
    "\n",
    "###############\n",
    "### MULTIQC ###\n",
    "###############\n",
    "multiqc $fastqc_dir \\\n",
    "        -n chipaid \\\n",
    "        -o $work \\\n",
    "        -m fastqc \\\n",
    "        -f;"
   ]
  },
  {
   "cell_type": "markdown",
   "metadata": {},
   "source": [
    "## 3) Align reads vs reference genome"
   ]
  },
  {
   "cell_type": "markdown",
   "metadata": {},
   "source": [
    "### 3.1) Build index"
   ]
  },
  {
   "cell_type": "markdown",
   "metadata": {},
   "source": [
    "Given that reads are shorter here than in the PTCB project, let's rebuild the genome index with this in mind (sjdbOverhang parameter 150 -> 74)"
   ]
  },
  {
   "cell_type": "markdown",
   "metadata": {},
   "source": [
    "##### STAR 2.5.3a @CALI"
   ]
  },
  {
   "cell_type": "code",
   "execution_count": 4,
   "metadata": {
    "collapsed": true
   },
   "outputs": [],
   "source": [
    "### CODE ###\n",
    "#!/bin/bash\n",
    "#SBATCH --partition=normal\n",
    "#SBATCH --ntasks=1\n",
    "#SBATCH --cpus-per-task=8\n",
    "#SBATCH --mem-per-cpu=6144\n",
    "#SBATCH --time=1-23:59:59\n",
    "#SBATCH --mail-user=erwan.scaon@unilim.fr\n",
    "#SBATCH --mail-type=begin\n",
    "#SBATCH --mail-type=end\n",
    "#SBATCH --error=/home/scaonp01/scratch/PTCB/Verbose/star_idx_custom_chipaid.e\n",
    "#SBATCH --output=/home/scaonp01/scratch/PTCB/Verbose/star_idx_custom_chipaid.o\n",
    "#SBATCH --job-name=star_idx_custom\n",
    "\n",
    "##############################\n",
    "### Paths, tools & modules ###\n",
    "##############################\n",
    "nt=8;\n",
    "export OMP_NUM_THREADS=$SLURM_CPUS_PER_TASK;\n",
    "star='/home/scaonp01/Software/STAR_2.5.3a/bin/Linux_x86_64';\n",
    "ptcb='/home/scaonp01/PTCB/Data/Mus_musculus';\n",
    "scratch='/home/scaonp01/scratch/PTCB';\n",
    "\n",
    "############\n",
    "### STAR ###\n",
    "############\n",
    "mkdir -p $ptcb/GRCm38.p6_custom_chipaid_STAR;\n",
    "cd $ptcb/GRCm38.p6_custom_chipaid_STAR;\n",
    "$star/STAR --runThreadN $nt \\\n",
    "           --runMode genomeGenerate \\\n",
    "           --genomeDir $ptcb/GRCm38.p6_custom_chipaid_STAR \\\n",
    "           --genomeFastaFiles $ptcb/GRCm38.p6_custom_STAR/GCA_000001635.8_GRCm38.p6_genomic_renamed_subsampled.fna \\\n",
    "           --sjdbGTFfile $ptcb/GRCm38.p6_custom_STAR/gencode.vM16.chr_patch_hapl_scaff.annotation.gtf \\\n",
    "           --sjdbOverhang 74;"
   ]
  },
  {
   "cell_type": "markdown",
   "metadata": {},
   "source": [
    "### 3.2) Alignments"
   ]
  },
  {
   "cell_type": "markdown",
   "metadata": {},
   "source": [
    "##### STAR 2.5.3a @CALI"
   ]
  },
  {
   "cell_type": "markdown",
   "metadata": {},
   "source": [
    "Initial script : star_WT_IN_2.sh <br>\n",
    "Nb_1 : We use gapped aligner based on biostar handbook advise. <br>\n",
    "Nb_2 : Default parameters (Did not find any guidelines for ChIP-Seq such as Encode alignement parameters advise for RNA-Seq). <br>\n",
    "Nb_3 : We keep unaligned reads in a separated FASTQ just in case."
   ]
  },
  {
   "cell_type": "code",
   "execution_count": null,
   "metadata": {
    "collapsed": true
   },
   "outputs": [],
   "source": [
    "### CODE ###\n",
    "#!/bin/bash\n",
    "#SBATCH --partition=normal\n",
    "#SBATCH --ntasks=1\n",
    "#SBATCH --cpus-per-task=8\n",
    "#SBATCH --mem-per-cpu=6144\n",
    "#SBATCH --time=1-23:59:59\n",
    "#SBATCH --mail-user=erwan.scaon@unilim.fr\n",
    "#SBATCH --mail-type=BEGIN\n",
    "#SBATCH --mail-type=END\n",
    "#SBATCH --error=/home/scaonp01/scratch/CHIPAID/Verbose/star_WT_IN_2.e\n",
    "#SBATCH --output=/home/scaonp01/scratch/CHIPAID/Verbose/star_WT_IN_2.o\n",
    "#SBATCH --job-name=star_WT_IN_2\n",
    "\n",
    "##############################\n",
    "### Paths, tools & modules ###\n",
    "##############################\n",
    "nt=8;\n",
    "export OMP_NUM_THREADS=$SLURM_CPUS_PER_TASK;\n",
    "star='/home/scaonp01/Software/STAR_2.5.3a/bin/Linux_x86_64/STAR';\n",
    "samtools='/home/scaonp01/Software/Samtools_1.6/Install/bin/samtools';\n",
    "save='/home/scaonp01/CHIPAID';\n",
    "work='/home/scaonp01/scratch/CHIPAID';\n",
    "\n",
    "############\n",
    "### STAR ###\n",
    "############\n",
    "cd $save/Data/Reads;\n",
    "for id in 'WT_IN_2';\n",
    "do $star --genomeDir $save/Data/GRCm38.p6_custom_chipaid_STAR \\\n",
    "         --readFilesIn $id.fastq.gz \\\n",
    "         --outFileNamePrefix $work/$id\"_vs_GRCm38.p6_custom_\" \\\n",
    "         --runThreadN $nt \\\n",
    "         --readFilesCommand zcat \\\n",
    "         --outSAMtype BAM SortedByCoordinate \\\n",
    "         --outReadsUnmapped Fastx;\n",
    "done;\n",
    "\n",
    "######################\n",
    "### Compress Stuff ###\n",
    "######################\n",
    "cd $work;\n",
    "mv $id\"_vs_GRCm38.p6_custom_Unmapped.out.mate1\" $id\"_vs_GRCm38.p6_custom_Unmapped.out.mate1.fastq\";\n",
    "gzip $id\"_vs_GRCm38.p6_custom_Unmapped.out.mate1.fastq\";\n",
    "$samtools index $id\"_vs_GRCm38.p6_custom_Aligned.sortedByCoord.out.bam\";"
   ]
  },
  {
   "cell_type": "markdown",
   "metadata": {},
   "source": [
    "Duplicate script for the 11 other samples"
   ]
  },
  {
   "cell_type": "code",
   "execution_count": null,
   "metadata": {
    "collapsed": true
   },
   "outputs": [],
   "source": [
    "### CODE ###\n",
    "for id in 'MAR_IN_1' 'MAR_IN_2' 'MAR_IN_3' 'MAR_IP_1' 'MAR_IP_2' 'MAR_IP_3' 'WT_IN_1' 'WT_IN_3' 'WT_IP_1' 'WT_IP_2' 'WT_IP_3';\n",
    "do cp star_WT_IN_2.sh star_$id.sh;\n",
    "   sed -i \"s/WT_IN_2/$id/\" star_$id.sh;\n",
    "   sbatch star_$id.sh;\n",
    "done;"
   ]
  },
  {
   "cell_type": "markdown",
   "metadata": {},
   "source": [
    "### 3.3) Alignements QC"
   ]
  },
  {
   "cell_type": "markdown",
   "metadata": {},
   "source": [
    "##### MultiQC 1.4 @local"
   ]
  },
  {
   "cell_type": "code",
   "execution_count": 5,
   "metadata": {
    "collapsed": true
   },
   "outputs": [],
   "source": [
    "### CODE ###\n",
    "path='/run/user/1000/gvfs/smb-share:server=ubox.ad.unilim.fr,share=biscem/BioInformatique/Responsables/Commun/CHIPAID';\n",
    "cd $path/Output/1_STAR/QC;\n",
    "multiqc ./ -n star_vs_custom -o ./ -m star -f > ./multiqc.verbose 2>&1;"
   ]
  },
  {
   "cell_type": "markdown",
   "metadata": {
    "collapsed": true
   },
   "source": [
    "## 4) Number of alignments per region of interest"
   ]
  },
  {
   "cell_type": "markdown",
   "metadata": {},
   "source": [
    "Given the potential low throughput of this ChIP-Seq experiment, we want to check if we have enough alignments on known regions of interest.  <br>\n",
    "\n",
    "Those regions are IgH, IgK & IgL loci : <br>\n",
    "https://www.ncbi.nlm.nih.gov/gene/111507 <br>\n",
    "https://www.ncbi.nlm.nih.gov/gene/243469 <br>\n",
    "https://www.ncbi.nlm.nih.gov/gene/111519 <br>\n",
    "chr6:67555636-70726754\tIgK <br>\n",
    "chr12:113258768-116009954\tIgH <br>\n",
    "chr16:19026858-19260844 IgL <br>\n",
    "\n",
    "And genes of interest (105) in the context of MAR-KO mutant, previously created for the PTCB project (genes_of_interest_mar.tsv) : <br>\n",
    "All members of the ARID family <br>\n",
    "All members of thee SATB family <br>\n",
    "Cux1 <br>\n",
    "AID off targets genes in Liu et al., Nature Letters, 02/2008, Supp Fig1 <br>\n",
    "Genes on the first page of Yamane et al., Nature Immunology, 01/2011, S1 Table <br>"
   ]
  },
  {
   "cell_type": "markdown",
   "metadata": {},
   "source": [
    "### 4.1) Get \"chr\", \"start\", \"end\" and \"gene_name\" for each of the 105 gene_id"
   ]
  },
  {
   "cell_type": "code",
   "execution_count": null,
   "metadata": {
    "collapsed": true
   },
   "outputs": [],
   "source": [
    "### CODE ###\n",
    "R;\n",
    "library('biomaRt')\n",
    "mar_goi=read.table(\"./genes_of_interest_mar.tsv\")\n",
    "colnames(mar_goi)[1] <- 'ensembl_gene_id'\n",
    "\n",
    "mmusculus = useMart(\"ENSEMBL_MART_ENSEMBL\",\n",
    "                    dataset=\"mmusculus_gene_ensembl\")\n",
    "\n",
    "mm_infos <- getBM(attributes=c('ensembl_gene_id',\n",
    "                               'chromosome_name',\n",
    "                               'start_position',\n",
    "                               'end_position',\n",
    "                               'external_gene_name'),\n",
    "                  mart = mmusculus)\n",
    "\n",
    "mar_bed <- merge(x = mar_goi,\n",
    "                 y = mm_infos,\n",
    "                 by = \"ensembl_gene_id\",\n",
    "                 all.x = TRUE)\n",
    "\n",
    "write.table(mar_bed,\n",
    "            file='./mar_goi_2.tsv',\n",
    "            row.names=FALSE,\n",
    "            col.names=FALSE,\n",
    "            sep=\"\\t\")"
   ]
  },
  {
   "cell_type": "markdown",
   "metadata": {},
   "source": [
    "##### Check coherence between biomart (ensembl) & GRC seqs names (in BAM / ref genome) <br>\n",
    "In mar_goi.tsv : \"1\" ... \"19\" \"X\" <br>\n",
    "In bam : >chr1, >GL456210.1, >GL456211.1 <br>\n",
    "\n",
    "Thus it's okay, nothing special in goi, just need to add \"chr\"."
   ]
  },
  {
   "cell_type": "markdown",
   "metadata": {},
   "source": [
    "### 4.2) Create BED for bedtools multicov"
   ]
  },
  {
   "cell_type": "markdown",
   "metadata": {},
   "source": [
    "##### Add chr & move col 1 to col 4 (bed format is chr, start, end, name)"
   ]
  },
  {
   "cell_type": "code",
   "execution_count": null,
   "metadata": {
    "collapsed": true
   },
   "outputs": [],
   "source": [
    "### CODE ###\n",
    "awk -F '\\t' -vOFS='\\t' '{print $2, $3, $4, $5}' mar_goi_2.tsv > temp_1.tsv;\n",
    "awk -F '\\t' -vOFS='\\t' '{$1 = \"chr\"$1}1' temp_1.tsv > temp_2.tsv;\n",
    "sed -i 's/\\\"//g' temp_2.tsv;\n",
    "# Add IgH, IgK and IgL loci manually\n",
    "# And sort BED, otherwise we will get error with downstream tools\n",
    "sort -k2,2n -k3,3n temp_2.tsv > temp_3.tsv;\n",
    "sort -V -k1 temp_3.tsv > mar_goi_2.bed;"
   ]
  },
  {
   "cell_type": "markdown",
   "metadata": {},
   "source": [
    "### 4.3) Get number of alignments per regions in our BED"
   ]
  },
  {
   "cell_type": "markdown",
   "metadata": {},
   "source": [
    "##### bedtools v2.25.0 @local"
   ]
  },
  {
   "cell_type": "markdown",
   "metadata": {},
   "source": [
    "https://bedtools.readthedocs.io/en/latest/content/tools/multicov.html"
   ]
  },
  {
   "cell_type": "code",
   "execution_count": null,
   "metadata": {
    "collapsed": true
   },
   "outputs": [],
   "source": [
    "### CODE ###\n",
    "# bamlist <=> ls -1 *.bam in BAM folder @CALI\n",
    "bedtools multicov \\\n",
    "         -bams `cat bamlist.txt` \\\n",
    "         -bed mar_goi_2_igx.bed \\\n",
    "         > alignments_per_region.tsv;\n",
    "sed -i '1 i\\chr\\tstart\\tend\\tgene\\tMAR_IN_1\\tMAR_IN_2\\tMAR_IN_3\\tMAR_IP_1\\tMAR_IP_2\\tMAR_IP_3\\tWT_IN_1\\tWT_IN_2\\tWT_IN_3\\tWT_IP_1\\tWT_IP_2\\tWT_IP_3' alignments_per_region.tsv;"
   ]
  }
 ],
 "metadata": {
  "anaconda-cloud": {},
  "kernelspec": {
   "display_name": "Bash",
   "language": "bash",
   "name": "bash"
  },
  "language_info": {
   "codemirror_mode": "shell",
   "file_extension": ".sh",
   "mimetype": "text/x-sh",
   "name": "bash"
  }
 },
 "nbformat": 4,
 "nbformat_minor": 1
}
